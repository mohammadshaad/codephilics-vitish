{
 "cells": [
  {
   "cell_type": "code",
   "execution_count": 1,
   "metadata": {},
   "outputs": [],
   "source": [
    "import cv2\n",
    "import time\n",
    "cascade_src = 'cars1.xml'\n",
    "video_src = 'video3.MP4'\n",
    "#line a\n",
    "ax1=70\n",
    "ay=90\n",
    "ax2=230\n",
    "#line b\n",
    "bx1=15\n",
    "by=125\n",
    "bx2=225\n",
    "#car num\n",
    "i = 1\n",
    "start_time = time.time()\n",
    "#video ....\n",
    "cap = cv2.VideoCapture(video_src)\n",
    "car_cascade = cv2.CascadeClassifier(cascade_src)   "
   ]
  },
  {
   "cell_type": "code",
   "execution_count": 8,
   "metadata": {},
   "outputs": [],
   "source": [
    "def Speed_Cal(time):\n",
    "    #Here i converted m to Km and second to hour then divison to reach Speed in this form (KM/H) \n",
    "    #the 9.144 is distance of free space between two lines # found in https://news.osu.edu/slow-down----those-lines-on-the-road-are-longer-than-you-think/\n",
    "    #i know that the 9.144 is an standard and my video may not be that but its like guess and its need Field research\n",
    "    try:\n",
    "        Speed = (9.144*4000)/(time*100)\n",
    "        return Speed\n",
    "    except ZeroDivisionError:\n",
    "        print (5)"
   ]
  },
  {
   "cell_type": "code",
   "execution_count": 10,
   "metadata": {},
   "outputs": [
    {
     "ename": "KeyboardInterrupt",
     "evalue": "",
     "output_type": "error",
     "traceback": [
      "\u001b[0;31m---------------------------------------------------------------------------\u001b[0m",
      "\u001b[0;31mKeyboardInterrupt\u001b[0m                         Traceback (most recent call last)",
      "Cell \u001b[0;32mIn[10], line 38\u001b[0m\n\u001b[1;32m     33\u001b[0m                 \u001b[39mbreak\u001b[39;00m\n\u001b[1;32m     36\u001b[0m     cv2\u001b[39m.\u001b[39mimshow(\u001b[39m'\u001b[39m\u001b[39mvideo\u001b[39m\u001b[39m'\u001b[39m, img)\n\u001b[0;32m---> 38\u001b[0m     \u001b[39mif\u001b[39;00m cv2\u001b[39m.\u001b[39;49mwaitKey(\u001b[39m33\u001b[39;49m) \u001b[39m==\u001b[39m \u001b[39m27\u001b[39m:\n\u001b[1;32m     39\u001b[0m         \u001b[39mbreak\u001b[39;00m\n\u001b[1;32m     41\u001b[0m cv2\u001b[39m.\u001b[39mdestroyAllWindows()\n",
      "\u001b[0;31mKeyboardInterrupt\u001b[0m: "
     ]
    }
   ],
   "source": [
    "while True:\n",
    "    ret, img = cap.read()\n",
    "    if (type(img) == type(None)):\n",
    "        break\n",
    "    #bluring to have exacter detection\n",
    "    blurred = cv2.blur(img,ksize=(15,15))\n",
    "    gray = cv2.cvtColor(blurred, cv2.COLOR_BGR2GRAY)\n",
    "    cars = car_cascade.detectMultiScale(gray, 1.1, 2)\n",
    "    \n",
    "    #line a #i know road has got \n",
    "    cv2.line(img,(ax1,ay),(ax2,ay),(255,0,0),2)\n",
    "    #line b\n",
    "    cv2.line(img,(bx1,by),(bx2,by),(255,0,0),2)\n",
    "    \n",
    "    for (x,y,w,h) in cars:\n",
    "        cv2.rectangle(img,(x,y),(x+w,y+h),(0,0,255),2)   \n",
    "        cv2.circle(img,(int((x+x+w)/2),int((y+y+h)/2)),1,(0,255,0),-1)\n",
    "        \n",
    "        while int(ay) == int((y+y+h)/2):\n",
    "            start_time = time.time()\n",
    "            break\n",
    "            \n",
    "        while int(ay) <= int((y+y+h)/2):\n",
    "            if int(by) <= int((y+y+h)/2)&int(by+10) >= int((y+y+h)/2):\n",
    "                cv2.line(img,(bx1,by),(bx2,by),(0,255,0),2)\n",
    "                Speed = Speed_Cal(time.time() - start_time)\n",
    "                print(\"Car Number \"+str(i)+\" Speed: \"+str(Speed))\n",
    "                i = i + 1\n",
    "                cv2.putText(img, \"Speed: \"+str(Speed)+\"KM/H\", (x,y-15), cv2.FONT_HERSHEY_SIMPLEX, 1, (255,0,0),3);\n",
    "                break\n",
    "            else :\n",
    "                cv2.putText(img, \"Calcuting\", (100,200), cv2.FONT_HERSHEY_SIMPLEX, 1,(0,255,0),3)\n",
    "                break\n",
    "                \n",
    "                \n",
    "    cv2.imshow('video', img)\n",
    "    \n",
    "    if cv2.waitKey(33) == 27:\n",
    "        break\n",
    "\n",
    "cv2.destroyAllWindows()"
   ]
  },
  {
   "cell_type": "code",
   "execution_count": null,
   "metadata": {},
   "outputs": [],
   "source": []
  }
 ],
 "metadata": {
  "kernelspec": {
   "display_name": "Python 3 (ipykernel)",
   "language": "python",
   "name": "python3"
  },
  "language_info": {
   "codemirror_mode": {
    "name": "ipython",
    "version": 3
   },
   "file_extension": ".py",
   "mimetype": "text/x-python",
   "name": "python",
   "nbconvert_exporter": "python",
   "pygments_lexer": "ipython3",
   "version": "3.10.10"
  }
 },
 "nbformat": 4,
 "nbformat_minor": 2
}
